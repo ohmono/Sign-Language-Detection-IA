{
 "cells": [
  {
   "cell_type": "code",
   "execution_count": 5,
   "metadata": {},
   "outputs": [],
   "source": [
    "import os\n",
    "import uuid\n",
    "import time\n",
    "import cv2\n"
   ]
  },
  {
   "cell_type": "code",
   "execution_count": 6,
   "metadata": {},
   "outputs": [],
   "source": [
    "try: \n",
    " IMAGES_PATH='./collectedimages'\n",
    " os.mkdir(IMAGES_PATH)\n",
    "except: pass"
   ]
  },
  {
   "cell_type": "code",
   "execution_count": 7,
   "metadata": {},
   "outputs": [],
   "source": [
    "labels = ['azul']\n",
    "number_ings = 30"
   ]
  },
  {
   "cell_type": "markdown",
   "metadata": {},
   "source": []
  },
  {
   "cell_type": "code",
   "execution_count": 8,
   "metadata": {},
   "outputs": [
    {
     "name": "stdout",
     "output_type": "stream",
     "text": [
      "Collecting images for azul\n",
      "Collecting images for cafe\n"
     ]
    }
   ],
   "source": [
    "for label in labels:\n",
    "    try:  os.mkdir(IMAGES_PATH+'\\\\'+label) \n",
    "    except: pass\n",
    "    cap = cv2.VideoCapture(0)\n",
    "    #print('Collecting images for {}'.format(label))\n",
    "    time.sleep(5)\n",
    "    for _ in range(number_ings):\n",
    "         print(_)\n",
    "         ret, frame = cap.read()\n",
    "         imagename = os.path.join(\n",
    "             IMAGES_PATH, label, label+'_'+'{}.jpg'.format(str(uuid.uuid1())))\n",
    "         cv2.imwrite(imagename, frame)\n",
    "         cv2.imshow('frame', frame)\n",
    "         time.sleep(2)\n",
    "\n",
    "         if cv2.waitKey(1) & 0xFF == ord('q'):\n",
    "              break\n",
    "    cap.release()"
   ]
  }
 ],
 "metadata": {
  "kernelspec": {
   "display_name": "Python 3.9.13 ('tensorflow-env': venv)",
   "language": "python",
   "name": "python3"
  },
  "language_info": {
   "codemirror_mode": {
    "name": "ipython",
    "version": 3
   },
   "file_extension": ".py",
   "mimetype": "text/x-python",
   "name": "python",
   "nbconvert_exporter": "python",
   "pygments_lexer": "ipython3",
   "version": "3.9.13"
  },
  "orig_nbformat": 4,
  "vscode": {
   "interpreter": {
    "hash": "839241be163833d6a37af5bef177a15592efa4588a7fb714a0597e27d642a2ab"
   }
  }
 },
 "nbformat": 4,
 "nbformat_minor": 2
}
