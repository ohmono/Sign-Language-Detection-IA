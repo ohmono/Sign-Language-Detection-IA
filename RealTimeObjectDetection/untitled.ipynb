{
 "cells": [
  {
   "cell_type": "code",
   "execution_count": 1,
   "metadata": {},
   "outputs": [],
   "source": [
    "import os\n",
    "import uuid\n",
    "import time\n",
    "import cv2\n"
   ]
  },
  {
   "cell_type": "code",
   "execution_count": 9,
   "metadata": {},
   "outputs": [],
   "source": [
    "IMAGES_PATH='Tensorflow/workspace/images/collectedimages'\n",
    "os.mkdir(IMAGES_PATH)"
   ]
  },
  {
   "cell_type": "code",
   "execution_count": 3,
   "metadata": {},
   "outputs": [],
   "source": [
    "labels = ['azul','café']\n",
    "number_ings = 30"
   ]
  },
  {
   "cell_type": "code",
   "execution_count": 11,
   "metadata": {},
   "outputs": [
    {
     "ename": "FileExistsError",
     "evalue": "[WinError 183] No se puede crear un archivo que ya existe: 'Tensorflow/workspace/images/collectedimages\\\\hello'",
     "output_type": "error",
     "traceback": [
      "\u001b[1;31m---------------------------------------------------------------------------\u001b[0m",
      "\u001b[1;31mFileExistsError\u001b[0m                           Traceback (most recent call last)",
      "\u001b[1;32mc:\\Users\\Frog\\Projects\\fundamentos\\Sign-Language-Detection-IA\\RealTimeObjectDetection\\untitled.ipynb Cell 4'\u001b[0m in \u001b[0;36m<cell line: 1>\u001b[1;34m()\u001b[0m\n\u001b[0;32m      <a href='vscode-notebook-cell:/c%3A/Users/Frog/Projects/fundamentos/Sign-Language-Detection-IA/RealTimeObjectDetection/untitled.ipynb#ch0000003?line=0'>1</a>\u001b[0m \u001b[39mfor\u001b[39;00m label \u001b[39min\u001b[39;00m labels:\n\u001b[1;32m----> <a href='vscode-notebook-cell:/c%3A/Users/Frog/Projects/fundamentos/Sign-Language-Detection-IA/RealTimeObjectDetection/untitled.ipynb#ch0000003?line=1'>2</a>\u001b[0m     os\u001b[39m.\u001b[39;49mmkdir(IMAGES_PATH\u001b[39m+\u001b[39;49m\u001b[39m'\u001b[39;49m\u001b[39m\\\\\u001b[39;49;00m\u001b[39m'\u001b[39;49m\u001b[39m+\u001b[39;49mlabel)\n\u001b[0;32m      <a href='vscode-notebook-cell:/c%3A/Users/Frog/Projects/fundamentos/Sign-Language-Detection-IA/RealTimeObjectDetection/untitled.ipynb#ch0000003?line=2'>3</a>\u001b[0m     cap \u001b[39m=\u001b[39m cv2\u001b[39m.\u001b[39mVideoCapture(\u001b[39m0\u001b[39m)\n\u001b[0;32m      <a href='vscode-notebook-cell:/c%3A/Users/Frog/Projects/fundamentos/Sign-Language-Detection-IA/RealTimeObjectDetection/untitled.ipynb#ch0000003?line=3'>4</a>\u001b[0m     \u001b[39mprint\u001b[39m(\u001b[39m'\u001b[39m\u001b[39mCollecting images for\u001b[39m\u001b[39m{}\u001b[39;00m\u001b[39m'\u001b[39m\u001b[39m.\u001b[39mformat(label))\n",
      "\u001b[1;31mFileExistsError\u001b[0m: [WinError 183] No se puede crear un archivo que ya existe: 'Tensorflow/workspace/images/collectedimages\\\\hello'"
     ]
    }
   ],
   "source": [
    "for label in labels:\n",
    "    try:  os.mkdir(IMAGES_PATH+'\\\\'+label) \n",
    "    except: pass\n",
    "    cap = cv2.VideoCapture(0)\n",
    "    print('Collecting images for{}'.format(label))\n",
    "    time.sleep(5)\n",
    "    for _ in range(number_ings):\n",
    "         ret, frame = cap.read()\n",
    "         imagename = os.path.join(\n",
    "             IMAGES_PATH, label, label+'.'+'().jpg'.format(str(uuid.uuid1())))\n",
    "         cv2.imwrite(imagename, frame)\n",
    "         cv2.inshow('frame', frame)\n",
    "         time.sleep(2)\n",
    "\n",
    "         if cv2.waitKey(1) & 0xFF == ord('q'):\n",
    "              break\n",
    "    cap.release()"
   ]
  }
 ],
 "metadata": {
  "kernelspec": {
   "display_name": "Python 3.9.12 ('env': venv)",
   "language": "python",
   "name": "python3"
  },
  "language_info": {
   "codemirror_mode": {
    "name": "ipython",
    "version": 3
   },
   "file_extension": ".py",
   "mimetype": "text/x-python",
   "name": "python",
   "nbconvert_exporter": "python",
   "pygments_lexer": "ipython3",
   "version": "3.9.12"
  },
  "orig_nbformat": 4,
  "vscode": {
   "interpreter": {
    "hash": "09058b8ac485335305ff742fc10a5885bf81f17c279e7f0ed005148b47b6a450"
   }
  }
 },
 "nbformat": 4,
 "nbformat_minor": 2
}
